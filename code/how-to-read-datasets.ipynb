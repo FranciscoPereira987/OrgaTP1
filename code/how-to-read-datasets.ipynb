{
 "metadata": {
  "_change_revision": 0,
  "_is_fork": false,
  "kernelspec": {
   "display_name": "Python 3",
   "language": "python",
   "name": "python3"
  },
  "language_info": {
   "name": "python",
   "version": "3.7.12",
   "mimetype": "text/x-python",
   "codemirror_mode": {
    "name": "ipython",
    "version": 3
   },
   "pygments_lexer": "ipython3",
   "nbconvert_exporter": "python",
   "file_extension": ".py"
  }
 },
 "nbformat_minor": 4,
 "nbformat": 4,
 "cells": [
  {
   "cell_type": "markdown",
   "source": [
    "Introduction\n",
    "------------\n",
    "\n",
    "This is a quick way to look at the different Datasets...."
   ],
   "metadata": {
    "_cell_guid": "746a01df-853b-ef24-a818-009f6a5f0de9"
   }
  },
  {
   "cell_type": "code",
   "source": [
    "\n",
    "import numpy as np # linear algebra\n",
    "import pandas as pd # data processing, CSV file I/O (e.g. pd.read_csv)\n",
    "\n",
    "import matplotlib.pyplot as plt\n",
    "\n",
    "# First, look at everything.\n",
    "from subprocess import check_output\n",
    "print(check_output([\"ls\", \"../input/data\"]).decode(\"utf8\"))\n"
   ],
   "metadata": {
    "_cell_guid": "21a28d9e-6886-59ca-f5f7-d68ed53280bb",
    "execution": {
     "iopub.status.busy": "2022-04-01T19:25:44.075268Z",
     "iopub.execute_input": "2022-04-01T19:25:44.075630Z",
     "iopub.status.idle": "2022-04-01T19:25:44.096869Z",
     "shell.execute_reply.started": "2022-04-01T19:25:44.075591Z",
     "shell.execute_reply": "2022-04-01T19:25:44.095620Z"
    },
    "trusted": true
   },
   "execution_count": 1,
   "outputs": [
    {
     "name": "stdout",
     "output_type": "stream",
     "text": [
      "college-majors.zip\n",
      "\n"
     ]
    }
   ]
  },
  {
   "cell_type": "code",
   "source": [
    "#  Pick a Dataset you might be interested in.\n",
    "#  Say, all airline-safety files...\n",
    "import zipfile\n",
    "\n",
    "Dataset = \"college-majors\"\n",
    "\n",
    "# Will unzip the files so that you can see them..\n",
    "with zipfile.ZipFile(\"../input/data/\"+Dataset+\".zip\",\"r\") as z:\n",
    "    z.extractall(\".\")"
   ],
   "metadata": {
    "_cell_guid": "009c9538-742e-4ad6-9d63-d87fdb4f51bd",
    "execution": {
     "iopub.status.busy": "2022-04-01T19:25:44.099541Z",
     "iopub.execute_input": "2022-04-01T19:25:44.100298Z",
     "iopub.status.idle": "2022-04-01T19:25:44.117003Z",
     "shell.execute_reply.started": "2022-04-01T19:25:44.100252Z",
     "shell.execute_reply": "2022-04-01T19:25:44.116029Z"
    },
    "trusted": true
   },
   "execution_count": 2,
   "outputs": []
  },
  {
   "cell_type": "code",
   "source": [
    "from subprocess import check_output\n",
    "\n",
    "print(check_output([\"ls\", \"college-majors\"]).decode(\"utf8\"))"
   ],
   "metadata": {
    "_cell_guid": "445f5319-a06b-47c3-6bb5-e6a8d1022908",
    "execution": {
     "iopub.status.busy": "2022-04-01T19:28:00.274862Z",
     "iopub.execute_input": "2022-04-01T19:28:00.275149Z",
     "iopub.status.idle": "2022-04-01T19:28:00.289809Z",
     "shell.execute_reply.started": "2022-04-01T19:28:00.275116Z",
     "shell.execute_reply": "2022-04-01T19:28:00.288695Z"
    },
    "trusted": true
   },
   "execution_count": 3,
   "outputs": [
    {
     "name": "stdout",
     "output_type": "stream",
     "text": [
      "all-ages.csv\n",
      "grad-students.csv\n",
      "majors-list.csv\n",
      "recent-grads.csv\n",
      "women-stem.csv\n",
      "\n"
     ]
    }
   ]
  },
  {
   "cell_type": "code",
   "execution_count": 4,
   "outputs": [
    {
     "data": {
      "text/plain": "   Major_code                                   Major  \\\n0        5601                   CONSTRUCTION SERVICES   \n1        6004       COMMERCIAL ART AND GRAPHIC DESIGN   \n2        6211                  HOSPITALITY MANAGEMENT   \n3        2201  COSMETOLOGY SERVICES AND CULINARY ARTS   \n4        2001              COMMUNICATION TECHNOLOGIES   \n\n                        Major_category  Grad_total  Grad_sample_size  \\\n0  Industrial Arts & Consumer Services        9173               200   \n1                                 Arts       53864               882   \n2                             Business       24417               437   \n3  Industrial Arts & Consumer Services        5411                72   \n4              Computers & Mathematics        9109               171   \n\n   Grad_employed  Grad_full_time_year_round  Grad_unemployed  \\\n0           7098                       6511              681   \n1          40492                      29553             2482   \n2          18368                      14784             1465   \n3           3590                       2701              316   \n4           7512                       5622              466   \n\n   Grad_unemployment_rate  Grad_median  ...  Nongrad_total  Nongrad_employed  \\\n0                0.087543      75000.0  ...          86062             73607   \n1                0.057756      60000.0  ...         461977            347166   \n2                0.073867      65000.0  ...         179335            145597   \n3                0.080901      47000.0  ...          37575             29738   \n4                0.058411      57000.0  ...          53819             43163   \n\n   Nongrad_full_time_year_round  Nongrad_unemployed  \\\n0                         62435                3928   \n1                        250596               25484   \n2                        113579                7409   \n3                         23249                1661   \n4                         34231                3389   \n\n   Nongrad_unemployment_rate  Nongrad_median  Nongrad_P25  Nongrad_P75  \\\n0                   0.050661         65000.0        47000      98000.0   \n1                   0.068386         48000.0        34000      71000.0   \n2                   0.048423         50000.0        35000      75000.0   \n3                   0.052900         41600.0        29000      60000.0   \n4                   0.072800         52000.0        36000      78000.0   \n\n   Grad_share  Grad_premium  \n0    0.096320      0.153846  \n1    0.104420      0.250000  \n2    0.119837      0.300000  \n3    0.125878      0.129808  \n4    0.144753      0.096154  \n\n[5 rows x 22 columns]",
      "text/html": "<div>\n<style scoped>\n    .dataframe tbody tr th:only-of-type {\n        vertical-align: middle;\n    }\n\n    .dataframe tbody tr th {\n        vertical-align: top;\n    }\n\n    .dataframe thead th {\n        text-align: right;\n    }\n</style>\n<table border=\"1\" class=\"dataframe\">\n  <thead>\n    <tr style=\"text-align: right;\">\n      <th></th>\n      <th>Major_code</th>\n      <th>Major</th>\n      <th>Major_category</th>\n      <th>Grad_total</th>\n      <th>Grad_sample_size</th>\n      <th>Grad_employed</th>\n      <th>Grad_full_time_year_round</th>\n      <th>Grad_unemployed</th>\n      <th>Grad_unemployment_rate</th>\n      <th>Grad_median</th>\n      <th>...</th>\n      <th>Nongrad_total</th>\n      <th>Nongrad_employed</th>\n      <th>Nongrad_full_time_year_round</th>\n      <th>Nongrad_unemployed</th>\n      <th>Nongrad_unemployment_rate</th>\n      <th>Nongrad_median</th>\n      <th>Nongrad_P25</th>\n      <th>Nongrad_P75</th>\n      <th>Grad_share</th>\n      <th>Grad_premium</th>\n    </tr>\n  </thead>\n  <tbody>\n    <tr>\n      <th>0</th>\n      <td>5601</td>\n      <td>CONSTRUCTION SERVICES</td>\n      <td>Industrial Arts &amp; Consumer Services</td>\n      <td>9173</td>\n      <td>200</td>\n      <td>7098</td>\n      <td>6511</td>\n      <td>681</td>\n      <td>0.087543</td>\n      <td>75000.0</td>\n      <td>...</td>\n      <td>86062</td>\n      <td>73607</td>\n      <td>62435</td>\n      <td>3928</td>\n      <td>0.050661</td>\n      <td>65000.0</td>\n      <td>47000</td>\n      <td>98000.0</td>\n      <td>0.096320</td>\n      <td>0.153846</td>\n    </tr>\n    <tr>\n      <th>1</th>\n      <td>6004</td>\n      <td>COMMERCIAL ART AND GRAPHIC DESIGN</td>\n      <td>Arts</td>\n      <td>53864</td>\n      <td>882</td>\n      <td>40492</td>\n      <td>29553</td>\n      <td>2482</td>\n      <td>0.057756</td>\n      <td>60000.0</td>\n      <td>...</td>\n      <td>461977</td>\n      <td>347166</td>\n      <td>250596</td>\n      <td>25484</td>\n      <td>0.068386</td>\n      <td>48000.0</td>\n      <td>34000</td>\n      <td>71000.0</td>\n      <td>0.104420</td>\n      <td>0.250000</td>\n    </tr>\n    <tr>\n      <th>2</th>\n      <td>6211</td>\n      <td>HOSPITALITY MANAGEMENT</td>\n      <td>Business</td>\n      <td>24417</td>\n      <td>437</td>\n      <td>18368</td>\n      <td>14784</td>\n      <td>1465</td>\n      <td>0.073867</td>\n      <td>65000.0</td>\n      <td>...</td>\n      <td>179335</td>\n      <td>145597</td>\n      <td>113579</td>\n      <td>7409</td>\n      <td>0.048423</td>\n      <td>50000.0</td>\n      <td>35000</td>\n      <td>75000.0</td>\n      <td>0.119837</td>\n      <td>0.300000</td>\n    </tr>\n    <tr>\n      <th>3</th>\n      <td>2201</td>\n      <td>COSMETOLOGY SERVICES AND CULINARY ARTS</td>\n      <td>Industrial Arts &amp; Consumer Services</td>\n      <td>5411</td>\n      <td>72</td>\n      <td>3590</td>\n      <td>2701</td>\n      <td>316</td>\n      <td>0.080901</td>\n      <td>47000.0</td>\n      <td>...</td>\n      <td>37575</td>\n      <td>29738</td>\n      <td>23249</td>\n      <td>1661</td>\n      <td>0.052900</td>\n      <td>41600.0</td>\n      <td>29000</td>\n      <td>60000.0</td>\n      <td>0.125878</td>\n      <td>0.129808</td>\n    </tr>\n    <tr>\n      <th>4</th>\n      <td>2001</td>\n      <td>COMMUNICATION TECHNOLOGIES</td>\n      <td>Computers &amp; Mathematics</td>\n      <td>9109</td>\n      <td>171</td>\n      <td>7512</td>\n      <td>5622</td>\n      <td>466</td>\n      <td>0.058411</td>\n      <td>57000.0</td>\n      <td>...</td>\n      <td>53819</td>\n      <td>43163</td>\n      <td>34231</td>\n      <td>3389</td>\n      <td>0.072800</td>\n      <td>52000.0</td>\n      <td>36000</td>\n      <td>78000.0</td>\n      <td>0.144753</td>\n      <td>0.096154</td>\n    </tr>\n  </tbody>\n</table>\n<p>5 rows × 22 columns</p>\n</div>"
     },
     "execution_count": 4,
     "metadata": {},
     "output_type": "execute_result"
    }
   ],
   "source": [
    "#students\n",
    "students=pd.read_csv(Dataset+\"/grad-students.csv\")\n",
    "students.head()"
   ],
   "metadata": {
    "collapsed": false,
    "pycharm": {
     "name": "#%%\n"
    }
   }
  },
  {
   "cell_type": "code",
   "execution_count": 5,
   "outputs": [
    {
     "name": "stdout",
     "output_type": "stream",
     "text": [
      "<class 'pandas.core.frame.DataFrame'>\n",
      "RangeIndex: 173 entries, 0 to 172\n",
      "Data columns (total 22 columns):\n",
      " #   Column                        Non-Null Count  Dtype  \n",
      "---  ------                        --------------  -----  \n",
      " 0   Major_code                    173 non-null    int64  \n",
      " 1   Major                         173 non-null    object \n",
      " 2   Major_category                173 non-null    object \n",
      " 3   Grad_total                    173 non-null    int64  \n",
      " 4   Grad_sample_size              173 non-null    int64  \n",
      " 5   Grad_employed                 173 non-null    int64  \n",
      " 6   Grad_full_time_year_round     173 non-null    int64  \n",
      " 7   Grad_unemployed               173 non-null    int64  \n",
      " 8   Grad_unemployment_rate        173 non-null    float64\n",
      " 9   Grad_median                   173 non-null    float64\n",
      " 10  Grad_P25                      173 non-null    int64  \n",
      " 11  Grad_P75                      173 non-null    float64\n",
      " 12  Nongrad_total                 173 non-null    int64  \n",
      " 13  Nongrad_employed              173 non-null    int64  \n",
      " 14  Nongrad_full_time_year_round  173 non-null    int64  \n",
      " 15  Nongrad_unemployed            173 non-null    int64  \n",
      " 16  Nongrad_unemployment_rate     173 non-null    float64\n",
      " 17  Nongrad_median                173 non-null    float64\n",
      " 18  Nongrad_P25                   173 non-null    int64  \n",
      " 19  Nongrad_P75                   173 non-null    float64\n",
      " 20  Grad_share                    173 non-null    float64\n",
      " 21  Grad_premium                  173 non-null    float64\n",
      "dtypes: float64(8), int64(12), object(2)\n",
      "memory usage: 29.9+ KB\n"
     ]
    }
   ],
   "source": [
    "students.info()"
   ],
   "metadata": {
    "collapsed": false,
    "pycharm": {
     "name": "#%%\n"
    }
   }
  }
 ]
}