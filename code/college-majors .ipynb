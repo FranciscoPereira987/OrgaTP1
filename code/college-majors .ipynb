{
 "metadata": {
  "kernelspec": {
   "language": "python",
   "display_name": "Python 3",
   "name": "python3"
  },
  "language_info": {
   "name": "python",
   "version": "3.7.12",
   "mimetype": "text/x-python",
   "codemirror_mode": {
    "name": "ipython",
    "version": 3
   },
   "pygments_lexer": "ipython3",
   "nbconvert_exporter": "python",
   "file_extension": ".py"
  }
 },
 "nbformat_minor": 4,
 "nbformat": 4,
 "cells": [
  {
   "cell_type": "code",
   "source": "\nimport numpy as np # linear algebra\nimport pandas as pd # data processing, CSV file I/O (e.g. pd.read_csv)\n\n# First, look at everything.\nfrom subprocess import check_output\n",
   "metadata": {
    "_cell_guid": "21a28d9e-6886-59ca-f5f7-d68ed53280bb",
    "execution": {
     "iopub.status.busy": "2022-04-03T21:06:28.795770Z",
     "iopub.execute_input": "2022-04-03T21:06:28.796545Z",
     "iopub.status.idle": "2022-04-03T21:06:28.802442Z",
     "shell.execute_reply.started": "2022-04-03T21:06:28.796500Z",
     "shell.execute_reply": "2022-04-03T21:06:28.801574Z"
    },
    "trusted": true
   },
   "execution_count": 1,
   "outputs": []
  },
  {
   "cell_type": "code",
   "source": "#  Pick a Dataset you might be interested in.\n#  Say, all airline-safety files...\nimport zipfile\n\nDataset = \"college-majors\"\n\n# Will unzip the files so that you can see them..\nwith zipfile.ZipFile(\"../input/data/\"+Dataset+\".zip\",\"r\") as z:\n    z.extractall(\".\")",
   "metadata": {
    "_cell_guid": "009c9538-742e-4ad6-9d63-d87fdb4f51bd",
    "execution": {
     "iopub.status.busy": "2022-04-03T21:06:28.872611Z",
     "iopub.execute_input": "2022-04-03T21:06:28.872904Z",
     "iopub.status.idle": "2022-04-03T21:06:28.885440Z",
     "shell.execute_reply.started": "2022-04-03T21:06:28.872845Z",
     "shell.execute_reply": "2022-04-03T21:06:28.884435Z"
    },
    "trusted": true
   },
   "execution_count": 2,
   "outputs": []
  },
  {
   "cell_type": "code",
   "source": "from subprocess import check_output\nprint(check_output([\"ls\", \"college-majors\"]).decode(\"utf8\"))",
   "metadata": {
    "_cell_guid": "445f5319-a06b-47c3-6bb5-e6a8d1022908",
    "execution": {
     "iopub.status.busy": "2022-04-03T21:06:28.938535Z",
     "iopub.execute_input": "2022-04-03T21:06:28.939161Z",
     "iopub.status.idle": "2022-04-03T21:06:28.957493Z",
     "shell.execute_reply.started": "2022-04-03T21:06:28.939123Z",
     "shell.execute_reply": "2022-04-03T21:06:28.956179Z"
    },
    "trusted": true
   },
   "execution_count": 3,
   "outputs": [
    {
     "name": "stdout",
     "output_type": "stream",
     "text": [
      "all-ages.csv\n",
      "grad-students.csv\n",
      "majors-list.csv\n",
      "recent-grads.csv\n",
      "women-stem.csv\n",
      "\n"
     ]
    }
   ]
  },
  {
   "cell_type": "code",
   "source": "# There's only one file above...we'll select it.\nstudents=pd.read_csv(Dataset+\"/grad-students.csv\")\nstudents.head()",
   "metadata": {
    "_cell_guid": "34c709f0-1ed3-eb91-f5af-89d0c571b252",
    "execution": {
     "iopub.status.busy": "2022-04-03T21:06:29.007792Z",
     "iopub.execute_input": "2022-04-03T21:06:29.008734Z",
     "iopub.status.idle": "2022-04-03T21:06:29.039806Z",
     "shell.execute_reply.started": "2022-04-03T21:06:29.008682Z",
     "shell.execute_reply": "2022-04-03T21:06:29.039094Z"
    },
    "trusted": true
   },
   "execution_count": 4,
   "outputs": [
    {
     "data": {
      "text/plain": "   Major_code                                   Major  \\\n0        5601                   CONSTRUCTION SERVICES   \n1        6004       COMMERCIAL ART AND GRAPHIC DESIGN   \n2        6211                  HOSPITALITY MANAGEMENT   \n3        2201  COSMETOLOGY SERVICES AND CULINARY ARTS   \n4        2001              COMMUNICATION TECHNOLOGIES   \n\n                        Major_category  Grad_total  Grad_sample_size  \\\n0  Industrial Arts & Consumer Services        9173               200   \n1                                 Arts       53864               882   \n2                             Business       24417               437   \n3  Industrial Arts & Consumer Services        5411                72   \n4              Computers & Mathematics        9109               171   \n\n   Grad_employed  Grad_full_time_year_round  Grad_unemployed  \\\n0           7098                       6511              681   \n1          40492                      29553             2482   \n2          18368                      14784             1465   \n3           3590                       2701              316   \n4           7512                       5622              466   \n\n   Grad_unemployment_rate  Grad_median  ...  Nongrad_total  Nongrad_employed  \\\n0                0.087543      75000.0  ...          86062             73607   \n1                0.057756      60000.0  ...         461977            347166   \n2                0.073867      65000.0  ...         179335            145597   \n3                0.080901      47000.0  ...          37575             29738   \n4                0.058411      57000.0  ...          53819             43163   \n\n   Nongrad_full_time_year_round  Nongrad_unemployed  \\\n0                         62435                3928   \n1                        250596               25484   \n2                        113579                7409   \n3                         23249                1661   \n4                         34231                3389   \n\n   Nongrad_unemployment_rate  Nongrad_median  Nongrad_P25  Nongrad_P75  \\\n0                   0.050661         65000.0        47000      98000.0   \n1                   0.068386         48000.0        34000      71000.0   \n2                   0.048423         50000.0        35000      75000.0   \n3                   0.052900         41600.0        29000      60000.0   \n4                   0.072800         52000.0        36000      78000.0   \n\n   Grad_share  Grad_premium  \n0    0.096320      0.153846  \n1    0.104420      0.250000  \n2    0.119837      0.300000  \n3    0.125878      0.129808  \n4    0.144753      0.096154  \n\n[5 rows x 22 columns]",
      "text/html": "<div>\n<style scoped>\n    .dataframe tbody tr th:only-of-type {\n        vertical-align: middle;\n    }\n\n    .dataframe tbody tr th {\n        vertical-align: top;\n    }\n\n    .dataframe thead th {\n        text-align: right;\n    }\n</style>\n<table border=\"1\" class=\"dataframe\">\n  <thead>\n    <tr style=\"text-align: right;\">\n      <th></th>\n      <th>Major_code</th>\n      <th>Major</th>\n      <th>Major_category</th>\n      <th>Grad_total</th>\n      <th>Grad_sample_size</th>\n      <th>Grad_employed</th>\n      <th>Grad_full_time_year_round</th>\n      <th>Grad_unemployed</th>\n      <th>Grad_unemployment_rate</th>\n      <th>Grad_median</th>\n      <th>...</th>\n      <th>Nongrad_total</th>\n      <th>Nongrad_employed</th>\n      <th>Nongrad_full_time_year_round</th>\n      <th>Nongrad_unemployed</th>\n      <th>Nongrad_unemployment_rate</th>\n      <th>Nongrad_median</th>\n      <th>Nongrad_P25</th>\n      <th>Nongrad_P75</th>\n      <th>Grad_share</th>\n      <th>Grad_premium</th>\n    </tr>\n  </thead>\n  <tbody>\n    <tr>\n      <th>0</th>\n      <td>5601</td>\n      <td>CONSTRUCTION SERVICES</td>\n      <td>Industrial Arts &amp; Consumer Services</td>\n      <td>9173</td>\n      <td>200</td>\n      <td>7098</td>\n      <td>6511</td>\n      <td>681</td>\n      <td>0.087543</td>\n      <td>75000.0</td>\n      <td>...</td>\n      <td>86062</td>\n      <td>73607</td>\n      <td>62435</td>\n      <td>3928</td>\n      <td>0.050661</td>\n      <td>65000.0</td>\n      <td>47000</td>\n      <td>98000.0</td>\n      <td>0.096320</td>\n      <td>0.153846</td>\n    </tr>\n    <tr>\n      <th>1</th>\n      <td>6004</td>\n      <td>COMMERCIAL ART AND GRAPHIC DESIGN</td>\n      <td>Arts</td>\n      <td>53864</td>\n      <td>882</td>\n      <td>40492</td>\n      <td>29553</td>\n      <td>2482</td>\n      <td>0.057756</td>\n      <td>60000.0</td>\n      <td>...</td>\n      <td>461977</td>\n      <td>347166</td>\n      <td>250596</td>\n      <td>25484</td>\n      <td>0.068386</td>\n      <td>48000.0</td>\n      <td>34000</td>\n      <td>71000.0</td>\n      <td>0.104420</td>\n      <td>0.250000</td>\n    </tr>\n    <tr>\n      <th>2</th>\n      <td>6211</td>\n      <td>HOSPITALITY MANAGEMENT</td>\n      <td>Business</td>\n      <td>24417</td>\n      <td>437</td>\n      <td>18368</td>\n      <td>14784</td>\n      <td>1465</td>\n      <td>0.073867</td>\n      <td>65000.0</td>\n      <td>...</td>\n      <td>179335</td>\n      <td>145597</td>\n      <td>113579</td>\n      <td>7409</td>\n      <td>0.048423</td>\n      <td>50000.0</td>\n      <td>35000</td>\n      <td>75000.0</td>\n      <td>0.119837</td>\n      <td>0.300000</td>\n    </tr>\n    <tr>\n      <th>3</th>\n      <td>2201</td>\n      <td>COSMETOLOGY SERVICES AND CULINARY ARTS</td>\n      <td>Industrial Arts &amp; Consumer Services</td>\n      <td>5411</td>\n      <td>72</td>\n      <td>3590</td>\n      <td>2701</td>\n      <td>316</td>\n      <td>0.080901</td>\n      <td>47000.0</td>\n      <td>...</td>\n      <td>37575</td>\n      <td>29738</td>\n      <td>23249</td>\n      <td>1661</td>\n      <td>0.052900</td>\n      <td>41600.0</td>\n      <td>29000</td>\n      <td>60000.0</td>\n      <td>0.125878</td>\n      <td>0.129808</td>\n    </tr>\n    <tr>\n      <th>4</th>\n      <td>2001</td>\n      <td>COMMUNICATION TECHNOLOGIES</td>\n      <td>Computers &amp; Mathematics</td>\n      <td>9109</td>\n      <td>171</td>\n      <td>7512</td>\n      <td>5622</td>\n      <td>466</td>\n      <td>0.058411</td>\n      <td>57000.0</td>\n      <td>...</td>\n      <td>53819</td>\n      <td>43163</td>\n      <td>34231</td>\n      <td>3389</td>\n      <td>0.072800</td>\n      <td>52000.0</td>\n      <td>36000</td>\n      <td>78000.0</td>\n      <td>0.144753</td>\n      <td>0.096154</td>\n    </tr>\n  </tbody>\n</table>\n<p>5 rows × 22 columns</p>\n</div>"
     },
     "execution_count": 4,
     "metadata": {},
     "output_type": "execute_result"
    }
   ]
  },
  {
   "cell_type": "markdown",
   "source": "## Info de las columnas\n\nSe muestra la informacion con info()",
   "metadata": {}
  },
  {
   "cell_type": "code",
   "source": "students.info()",
   "metadata": {
    "execution": {
     "iopub.status.busy": "2022-04-03T21:06:29.065230Z",
     "iopub.execute_input": "2022-04-03T21:06:29.065523Z",
     "iopub.status.idle": "2022-04-03T21:06:29.080398Z",
     "shell.execute_reply.started": "2022-04-03T21:06:29.065489Z",
     "shell.execute_reply": "2022-04-03T21:06:29.079366Z"
    },
    "trusted": true
   },
   "execution_count": 5,
   "outputs": [
    {
     "name": "stdout",
     "output_type": "stream",
     "text": [
      "<class 'pandas.core.frame.DataFrame'>\n",
      "RangeIndex: 173 entries, 0 to 172\n",
      "Data columns (total 22 columns):\n",
      " #   Column                        Non-Null Count  Dtype  \n",
      "---  ------                        --------------  -----  \n",
      " 0   Major_code                    173 non-null    int64  \n",
      " 1   Major                         173 non-null    object \n",
      " 2   Major_category                173 non-null    object \n",
      " 3   Grad_total                    173 non-null    int64  \n",
      " 4   Grad_sample_size              173 non-null    int64  \n",
      " 5   Grad_employed                 173 non-null    int64  \n",
      " 6   Grad_full_time_year_round     173 non-null    int64  \n",
      " 7   Grad_unemployed               173 non-null    int64  \n",
      " 8   Grad_unemployment_rate        173 non-null    float64\n",
      " 9   Grad_median                   173 non-null    float64\n",
      " 10  Grad_P25                      173 non-null    int64  \n",
      " 11  Grad_P75                      173 non-null    float64\n",
      " 12  Nongrad_total                 173 non-null    int64  \n",
      " 13  Nongrad_employed              173 non-null    int64  \n",
      " 14  Nongrad_full_time_year_round  173 non-null    int64  \n",
      " 15  Nongrad_unemployed            173 non-null    int64  \n",
      " 16  Nongrad_unemployment_rate     173 non-null    float64\n",
      " 17  Nongrad_median                173 non-null    float64\n",
      " 18  Nongrad_P25                   173 non-null    int64  \n",
      " 19  Nongrad_P75                   173 non-null    float64\n",
      " 20  Grad_share                    173 non-null    float64\n",
      " 21  Grad_premium                  173 non-null    float64\n",
      "dtypes: float64(8), int64(12), object(2)\n",
      "memory usage: 29.9+ KB\n"
     ]
    }
   ]
  },
  {
   "cell_type": "markdown",
   "source": "### Descripcion de cada una\n\n- \n\n\n---\n\n### Resumen del dataset con tail y head\n\nSe muestran las primeras 5 y ultimas 5 filas del dataset, tambien se muestra el shape del mismo",
   "metadata": {}
  },
  {
   "cell_type": "code",
   "source": "students.head()",
   "metadata": {
    "execution": {
     "iopub.status.busy": "2022-04-03T21:06:29.123037Z",
     "iopub.execute_input": "2022-04-03T21:06:29.123785Z",
     "iopub.status.idle": "2022-04-03T21:06:29.148831Z",
     "shell.execute_reply.started": "2022-04-03T21:06:29.123740Z",
     "shell.execute_reply": "2022-04-03T21:06:29.147852Z"
    },
    "trusted": true
   },
   "execution_count": 6,
   "outputs": [
    {
     "data": {
      "text/plain": "   Major_code                                   Major  \\\n0        5601                   CONSTRUCTION SERVICES   \n1        6004       COMMERCIAL ART AND GRAPHIC DESIGN   \n2        6211                  HOSPITALITY MANAGEMENT   \n3        2201  COSMETOLOGY SERVICES AND CULINARY ARTS   \n4        2001              COMMUNICATION TECHNOLOGIES   \n\n                        Major_category  Grad_total  Grad_sample_size  \\\n0  Industrial Arts & Consumer Services        9173               200   \n1                                 Arts       53864               882   \n2                             Business       24417               437   \n3  Industrial Arts & Consumer Services        5411                72   \n4              Computers & Mathematics        9109               171   \n\n   Grad_employed  Grad_full_time_year_round  Grad_unemployed  \\\n0           7098                       6511              681   \n1          40492                      29553             2482   \n2          18368                      14784             1465   \n3           3590                       2701              316   \n4           7512                       5622              466   \n\n   Grad_unemployment_rate  Grad_median  ...  Nongrad_total  Nongrad_employed  \\\n0                0.087543      75000.0  ...          86062             73607   \n1                0.057756      60000.0  ...         461977            347166   \n2                0.073867      65000.0  ...         179335            145597   \n3                0.080901      47000.0  ...          37575             29738   \n4                0.058411      57000.0  ...          53819             43163   \n\n   Nongrad_full_time_year_round  Nongrad_unemployed  \\\n0                         62435                3928   \n1                        250596               25484   \n2                        113579                7409   \n3                         23249                1661   \n4                         34231                3389   \n\n   Nongrad_unemployment_rate  Nongrad_median  Nongrad_P25  Nongrad_P75  \\\n0                   0.050661         65000.0        47000      98000.0   \n1                   0.068386         48000.0        34000      71000.0   \n2                   0.048423         50000.0        35000      75000.0   \n3                   0.052900         41600.0        29000      60000.0   \n4                   0.072800         52000.0        36000      78000.0   \n\n   Grad_share  Grad_premium  \n0    0.096320      0.153846  \n1    0.104420      0.250000  \n2    0.119837      0.300000  \n3    0.125878      0.129808  \n4    0.144753      0.096154  \n\n[5 rows x 22 columns]",
      "text/html": "<div>\n<style scoped>\n    .dataframe tbody tr th:only-of-type {\n        vertical-align: middle;\n    }\n\n    .dataframe tbody tr th {\n        vertical-align: top;\n    }\n\n    .dataframe thead th {\n        text-align: right;\n    }\n</style>\n<table border=\"1\" class=\"dataframe\">\n  <thead>\n    <tr style=\"text-align: right;\">\n      <th></th>\n      <th>Major_code</th>\n      <th>Major</th>\n      <th>Major_category</th>\n      <th>Grad_total</th>\n      <th>Grad_sample_size</th>\n      <th>Grad_employed</th>\n      <th>Grad_full_time_year_round</th>\n      <th>Grad_unemployed</th>\n      <th>Grad_unemployment_rate</th>\n      <th>Grad_median</th>\n      <th>...</th>\n      <th>Nongrad_total</th>\n      <th>Nongrad_employed</th>\n      <th>Nongrad_full_time_year_round</th>\n      <th>Nongrad_unemployed</th>\n      <th>Nongrad_unemployment_rate</th>\n      <th>Nongrad_median</th>\n      <th>Nongrad_P25</th>\n      <th>Nongrad_P75</th>\n      <th>Grad_share</th>\n      <th>Grad_premium</th>\n    </tr>\n  </thead>\n  <tbody>\n    <tr>\n      <th>0</th>\n      <td>5601</td>\n      <td>CONSTRUCTION SERVICES</td>\n      <td>Industrial Arts &amp; Consumer Services</td>\n      <td>9173</td>\n      <td>200</td>\n      <td>7098</td>\n      <td>6511</td>\n      <td>681</td>\n      <td>0.087543</td>\n      <td>75000.0</td>\n      <td>...</td>\n      <td>86062</td>\n      <td>73607</td>\n      <td>62435</td>\n      <td>3928</td>\n      <td>0.050661</td>\n      <td>65000.0</td>\n      <td>47000</td>\n      <td>98000.0</td>\n      <td>0.096320</td>\n      <td>0.153846</td>\n    </tr>\n    <tr>\n      <th>1</th>\n      <td>6004</td>\n      <td>COMMERCIAL ART AND GRAPHIC DESIGN</td>\n      <td>Arts</td>\n      <td>53864</td>\n      <td>882</td>\n      <td>40492</td>\n      <td>29553</td>\n      <td>2482</td>\n      <td>0.057756</td>\n      <td>60000.0</td>\n      <td>...</td>\n      <td>461977</td>\n      <td>347166</td>\n      <td>250596</td>\n      <td>25484</td>\n      <td>0.068386</td>\n      <td>48000.0</td>\n      <td>34000</td>\n      <td>71000.0</td>\n      <td>0.104420</td>\n      <td>0.250000</td>\n    </tr>\n    <tr>\n      <th>2</th>\n      <td>6211</td>\n      <td>HOSPITALITY MANAGEMENT</td>\n      <td>Business</td>\n      <td>24417</td>\n      <td>437</td>\n      <td>18368</td>\n      <td>14784</td>\n      <td>1465</td>\n      <td>0.073867</td>\n      <td>65000.0</td>\n      <td>...</td>\n      <td>179335</td>\n      <td>145597</td>\n      <td>113579</td>\n      <td>7409</td>\n      <td>0.048423</td>\n      <td>50000.0</td>\n      <td>35000</td>\n      <td>75000.0</td>\n      <td>0.119837</td>\n      <td>0.300000</td>\n    </tr>\n    <tr>\n      <th>3</th>\n      <td>2201</td>\n      <td>COSMETOLOGY SERVICES AND CULINARY ARTS</td>\n      <td>Industrial Arts &amp; Consumer Services</td>\n      <td>5411</td>\n      <td>72</td>\n      <td>3590</td>\n      <td>2701</td>\n      <td>316</td>\n      <td>0.080901</td>\n      <td>47000.0</td>\n      <td>...</td>\n      <td>37575</td>\n      <td>29738</td>\n      <td>23249</td>\n      <td>1661</td>\n      <td>0.052900</td>\n      <td>41600.0</td>\n      <td>29000</td>\n      <td>60000.0</td>\n      <td>0.125878</td>\n      <td>0.129808</td>\n    </tr>\n    <tr>\n      <th>4</th>\n      <td>2001</td>\n      <td>COMMUNICATION TECHNOLOGIES</td>\n      <td>Computers &amp; Mathematics</td>\n      <td>9109</td>\n      <td>171</td>\n      <td>7512</td>\n      <td>5622</td>\n      <td>466</td>\n      <td>0.058411</td>\n      <td>57000.0</td>\n      <td>...</td>\n      <td>53819</td>\n      <td>43163</td>\n      <td>34231</td>\n      <td>3389</td>\n      <td>0.072800</td>\n      <td>52000.0</td>\n      <td>36000</td>\n      <td>78000.0</td>\n      <td>0.144753</td>\n      <td>0.096154</td>\n    </tr>\n  </tbody>\n</table>\n<p>5 rows × 22 columns</p>\n</div>"
     },
     "execution_count": 6,
     "metadata": {},
     "output_type": "execute_result"
    }
   ]
  },
  {
   "cell_type": "code",
   "source": "students.tail()",
   "metadata": {
    "execution": {
     "iopub.status.busy": "2022-04-03T21:06:29.186230Z",
     "iopub.execute_input": "2022-04-03T21:06:29.186505Z",
     "iopub.status.idle": "2022-04-03T21:06:29.210887Z",
     "shell.execute_reply.started": "2022-04-03T21:06:29.186478Z",
     "shell.execute_reply": "2022-04-03T21:06:29.209952Z"
    },
    "trusted": true
   },
   "execution_count": 7,
   "outputs": [
    {
     "data": {
      "text/plain": "     Major_code                                       Major  \\\n168        5203                       COUNSELING PSYCHOLOGY   \n169        5202                         CLINICAL PSYCHOLOGY   \n170        6106     HEALTH AND MEDICAL PREPARATORY PROGRAMS   \n171        2303                   SCHOOL STUDENT COUNSELING   \n172        2301  EDUCATIONAL ADMINISTRATION AND SUPERVISION   \n\n               Major_category  Grad_total  Grad_sample_size  Grad_employed  \\\n168  Psychology & Social Work       51812               724          38468   \n169  Psychology & Social Work       22716               355          16612   \n170                    Health      114971              1766          78132   \n171                 Education       19841               260          11313   \n172                 Education       54159               841          34142   \n\n     Grad_full_time_year_round  Grad_unemployed  Grad_unemployment_rate  \\\n168                      28808             1420                0.035600   \n169                      12022              782                0.044958   \n170                      58825             1732                0.021687   \n171                       8130              613                0.051400   \n172                      26850              582                0.016761   \n\n     Grad_median  ...  Nongrad_total  Nongrad_employed  \\\n168      50000.0  ...          16781             12377   \n169      70000.0  ...           6519              4368   \n170     135000.0  ...          26320             16221   \n171      56000.0  ...           2232              1328   \n172      65000.0  ...           4003              3079   \n\n     Nongrad_full_time_year_round  Nongrad_unemployed  \\\n168                          8502                 835   \n169                          3033                 357   \n170                         12185                1012   \n171                           980                 169   \n172                          2434                   0   \n\n     Nongrad_unemployment_rate  Nongrad_median  Nongrad_P25  Nongrad_P75  \\\n168                   0.063200         40000.0        25000      50000.0   \n169                   0.075556         46000.0        30000      70000.0   \n170                   0.058725         51000.0        35000      87000.0   \n171                   0.112892         42000.0        27000      51000.0   \n172                   0.000000         58000.0        45000      79000.0   \n\n     Grad_share  Grad_premium  \n168    0.755354      0.250000  \n169    0.777014      0.521739  \n170    0.813718      1.647059  \n171    0.898881      0.333333  \n172    0.931175      0.120690  \n\n[5 rows x 22 columns]",
      "text/html": "<div>\n<style scoped>\n    .dataframe tbody tr th:only-of-type {\n        vertical-align: middle;\n    }\n\n    .dataframe tbody tr th {\n        vertical-align: top;\n    }\n\n    .dataframe thead th {\n        text-align: right;\n    }\n</style>\n<table border=\"1\" class=\"dataframe\">\n  <thead>\n    <tr style=\"text-align: right;\">\n      <th></th>\n      <th>Major_code</th>\n      <th>Major</th>\n      <th>Major_category</th>\n      <th>Grad_total</th>\n      <th>Grad_sample_size</th>\n      <th>Grad_employed</th>\n      <th>Grad_full_time_year_round</th>\n      <th>Grad_unemployed</th>\n      <th>Grad_unemployment_rate</th>\n      <th>Grad_median</th>\n      <th>...</th>\n      <th>Nongrad_total</th>\n      <th>Nongrad_employed</th>\n      <th>Nongrad_full_time_year_round</th>\n      <th>Nongrad_unemployed</th>\n      <th>Nongrad_unemployment_rate</th>\n      <th>Nongrad_median</th>\n      <th>Nongrad_P25</th>\n      <th>Nongrad_P75</th>\n      <th>Grad_share</th>\n      <th>Grad_premium</th>\n    </tr>\n  </thead>\n  <tbody>\n    <tr>\n      <th>168</th>\n      <td>5203</td>\n      <td>COUNSELING PSYCHOLOGY</td>\n      <td>Psychology &amp; Social Work</td>\n      <td>51812</td>\n      <td>724</td>\n      <td>38468</td>\n      <td>28808</td>\n      <td>1420</td>\n      <td>0.035600</td>\n      <td>50000.0</td>\n      <td>...</td>\n      <td>16781</td>\n      <td>12377</td>\n      <td>8502</td>\n      <td>835</td>\n      <td>0.063200</td>\n      <td>40000.0</td>\n      <td>25000</td>\n      <td>50000.0</td>\n      <td>0.755354</td>\n      <td>0.250000</td>\n    </tr>\n    <tr>\n      <th>169</th>\n      <td>5202</td>\n      <td>CLINICAL PSYCHOLOGY</td>\n      <td>Psychology &amp; Social Work</td>\n      <td>22716</td>\n      <td>355</td>\n      <td>16612</td>\n      <td>12022</td>\n      <td>782</td>\n      <td>0.044958</td>\n      <td>70000.0</td>\n      <td>...</td>\n      <td>6519</td>\n      <td>4368</td>\n      <td>3033</td>\n      <td>357</td>\n      <td>0.075556</td>\n      <td>46000.0</td>\n      <td>30000</td>\n      <td>70000.0</td>\n      <td>0.777014</td>\n      <td>0.521739</td>\n    </tr>\n    <tr>\n      <th>170</th>\n      <td>6106</td>\n      <td>HEALTH AND MEDICAL PREPARATORY PROGRAMS</td>\n      <td>Health</td>\n      <td>114971</td>\n      <td>1766</td>\n      <td>78132</td>\n      <td>58825</td>\n      <td>1732</td>\n      <td>0.021687</td>\n      <td>135000.0</td>\n      <td>...</td>\n      <td>26320</td>\n      <td>16221</td>\n      <td>12185</td>\n      <td>1012</td>\n      <td>0.058725</td>\n      <td>51000.0</td>\n      <td>35000</td>\n      <td>87000.0</td>\n      <td>0.813718</td>\n      <td>1.647059</td>\n    </tr>\n    <tr>\n      <th>171</th>\n      <td>2303</td>\n      <td>SCHOOL STUDENT COUNSELING</td>\n      <td>Education</td>\n      <td>19841</td>\n      <td>260</td>\n      <td>11313</td>\n      <td>8130</td>\n      <td>613</td>\n      <td>0.051400</td>\n      <td>56000.0</td>\n      <td>...</td>\n      <td>2232</td>\n      <td>1328</td>\n      <td>980</td>\n      <td>169</td>\n      <td>0.112892</td>\n      <td>42000.0</td>\n      <td>27000</td>\n      <td>51000.0</td>\n      <td>0.898881</td>\n      <td>0.333333</td>\n    </tr>\n    <tr>\n      <th>172</th>\n      <td>2301</td>\n      <td>EDUCATIONAL ADMINISTRATION AND SUPERVISION</td>\n      <td>Education</td>\n      <td>54159</td>\n      <td>841</td>\n      <td>34142</td>\n      <td>26850</td>\n      <td>582</td>\n      <td>0.016761</td>\n      <td>65000.0</td>\n      <td>...</td>\n      <td>4003</td>\n      <td>3079</td>\n      <td>2434</td>\n      <td>0</td>\n      <td>0.000000</td>\n      <td>58000.0</td>\n      <td>45000</td>\n      <td>79000.0</td>\n      <td>0.931175</td>\n      <td>0.120690</td>\n    </tr>\n  </tbody>\n</table>\n<p>5 rows × 22 columns</p>\n</div>"
     },
     "execution_count": 7,
     "metadata": {},
     "output_type": "execute_result"
    }
   ]
  },
  {
   "cell_type": "code",
   "source": "students.shape",
   "metadata": {
    "execution": {
     "iopub.status.busy": "2022-04-03T21:06:29.224151Z",
     "iopub.execute_input": "2022-04-03T21:06:29.224708Z",
     "iopub.status.idle": "2022-04-03T21:06:29.230690Z",
     "shell.execute_reply.started": "2022-04-03T21:06:29.224664Z",
     "shell.execute_reply": "2022-04-03T21:06:29.229852Z"
    },
    "trusted": true
   },
   "execution_count": 8,
   "outputs": [
    {
     "data": {
      "text/plain": "(173, 22)"
     },
     "execution_count": 8,
     "metadata": {},
     "output_type": "execute_result"
    }
   ]
  },
  {
   "cell_type": "markdown",
   "source": "### Cantidad de valores nulos por columna",
   "metadata": {}
  },
  {
   "cell_type": "code",
   "source": "students.isnull().sum()",
   "metadata": {
    "execution": {
     "iopub.status.busy": "2022-04-03T21:06:29.267937Z",
     "iopub.execute_input": "2022-04-03T21:06:29.268204Z",
     "iopub.status.idle": "2022-04-03T21:06:29.277099Z",
     "shell.execute_reply.started": "2022-04-03T21:06:29.268177Z",
     "shell.execute_reply": "2022-04-03T21:06:29.276275Z"
    },
    "trusted": true
   },
   "execution_count": 9,
   "outputs": [
    {
     "data": {
      "text/plain": "Major_code                      0\nMajor                           0\nMajor_category                  0\nGrad_total                      0\nGrad_sample_size                0\nGrad_employed                   0\nGrad_full_time_year_round       0\nGrad_unemployed                 0\nGrad_unemployment_rate          0\nGrad_median                     0\nGrad_P25                        0\nGrad_P75                        0\nNongrad_total                   0\nNongrad_employed                0\nNongrad_full_time_year_round    0\nNongrad_unemployed              0\nNongrad_unemployment_rate       0\nNongrad_median                  0\nNongrad_P25                     0\nNongrad_P75                     0\nGrad_share                      0\nGrad_premium                    0\ndtype: int64"
     },
     "execution_count": 9,
     "metadata": {},
     "output_type": "execute_result"
    }
   ]
  },
  {
   "cell_type": "code",
   "source": "grouped_by_major = students.groupby(\"Major\").count()\ngrouped_by_category = students.groupby(\"Major_category\").count()",
   "metadata": {
    "execution": {
     "iopub.status.busy": "2022-04-03T21:06:29.321042Z",
     "iopub.execute_input": "2022-04-03T21:06:29.321457Z",
     "iopub.status.idle": "2022-04-03T21:06:29.329505Z",
     "shell.execute_reply.started": "2022-04-03T21:06:29.321427Z",
     "shell.execute_reply": "2022-04-03T21:06:29.328833Z"
    },
    "trusted": true
   },
   "execution_count": 10,
   "outputs": []
  },
  {
   "cell_type": "markdown",
   "source": "No tiene sentido el histograma en ninguna de las dos\n[link util](https://es.gadget-info.com/difference-between-histogram)",
   "metadata": {}
  },
  {
   "cell_type": "code",
   "source": "grouped_by_major[\"Major_category\"]",
   "metadata": {
    "execution": {
     "iopub.status.busy": "2022-04-03T21:06:29.392038Z",
     "iopub.execute_input": "2022-04-03T21:06:29.392443Z",
     "iopub.status.idle": "2022-04-03T21:06:29.399310Z",
     "shell.execute_reply.started": "2022-04-03T21:06:29.392414Z",
     "shell.execute_reply": "2022-04-03T21:06:29.398272Z"
    },
    "trusted": true
   },
   "execution_count": 11,
   "outputs": [
    {
     "data": {
      "text/plain": "Major\nACCOUNTING                                  1\nACTUARIAL SCIENCE                           1\nADVERTISING AND PUBLIC RELATIONS            1\nAEROSPACE ENGINEERING                       1\nAGRICULTURAL ECONOMICS                      1\n                                           ..\nTRANSPORTATION SCIENCES AND TECHNOLOGIES    1\nTREATMENT THERAPY PROFESSIONS               1\nUNITED STATES HISTORY                       1\nVISUAL AND PERFORMING ARTS                  1\nZOOLOGY                                     1\nName: Major_category, Length: 173, dtype: int64"
     },
     "execution_count": 11,
     "metadata": {},
     "output_type": "execute_result"
    }
   ]
  },
  {
   "cell_type": "code",
   "source": "grouped_by_category[\"Major_code\"]",
   "metadata": {
    "execution": {
     "iopub.status.busy": "2022-04-03T21:06:29.443164Z",
     "iopub.execute_input": "2022-04-03T21:06:29.443654Z",
     "iopub.status.idle": "2022-04-03T21:06:29.450539Z",
     "shell.execute_reply.started": "2022-04-03T21:06:29.443620Z",
     "shell.execute_reply": "2022-04-03T21:06:29.449616Z"
    },
    "trusted": true
   },
   "execution_count": 12,
   "outputs": [
    {
     "data": {
      "text/plain": "Major_category\nAgriculture & Natural Resources        10\nArts                                    8\nBiology & Life Science                 14\nBusiness                               13\nCommunications & Journalism             4\nComputers & Mathematics                11\nEducation                              16\nEngineering                            29\nHealth                                 12\nHumanities & Liberal Arts              15\nIndustrial Arts & Consumer Services     7\nInterdisciplinary                       1\nLaw & Public Policy                     5\nPhysical Sciences                      10\nPsychology & Social Work                9\nSocial Science                          9\nName: Major_code, dtype: int64"
     },
     "execution_count": 12,
     "metadata": {},
     "output_type": "execute_result"
    }
   ]
  },
  {
   "cell_type": "code",
   "source": "description = students.describe()\ndescription.drop([\"count\", \"std\", \"min\", \"max\"], inplace=True, axis='index')\ndescription",
   "metadata": {
    "execution": {
     "iopub.status.busy": "2022-04-03T21:06:29.493619Z",
     "iopub.execute_input": "2022-04-03T21:06:29.494420Z",
     "iopub.status.idle": "2022-04-03T21:06:29.554289Z",
     "shell.execute_reply.started": "2022-04-03T21:06:29.494373Z",
     "shell.execute_reply": "2022-04-03T21:06:29.553462Z"
    },
    "trusted": true
   },
   "execution_count": 13,
   "outputs": [
    {
     "data": {
      "text/plain": "       Major_code     Grad_total  Grad_sample_size  Grad_employed  \\\nmean  3879.815029  127672.023121       2250.872832   94037.034682   \n25%   2403.000000   15284.000000        314.000000   12659.000000   \n50%   3608.000000   37872.000000        688.000000   28930.000000   \n75%   5503.000000  148255.000000       2528.000000  109944.000000   \n\n      Grad_full_time_year_round  Grad_unemployed  Grad_unemployment_rate  \\\nmean               72861.184971      3506.427746                0.039343   \n25%                 9894.000000       453.000000                0.026068   \n50%                22523.000000      1179.000000                0.036654   \n75%                80794.000000      3329.000000                0.048051   \n\n       Grad_median      Grad_P25      Grad_P75  Nongrad_total  \\\nmean  76755.780347  52596.508671  112087.34104  214720.312139   \n25%   65000.000000  45000.000000   93000.00000   20564.000000   \n50%   75000.000000  50000.000000  108000.00000   68993.000000   \n75%   90000.000000  60000.000000  130000.00000  184971.000000   \n\n      Nongrad_employed  Nongrad_full_time_year_round  Nongrad_unemployed  \\\nmean     154553.520231                 120736.820809         8486.323699   \n25%       15914.000000                  11755.000000          880.000000   \n50%       50092.000000                  38384.000000         3157.000000   \n75%      129179.000000                 103629.000000         7409.000000   \n\n      Nongrad_unemployment_rate  Nongrad_median   Nongrad_P25   Nongrad_P75  \\\nmean                   0.053947    58583.815029  40078.179191  84332.947977   \n25%                    0.041981    48700.000000  34000.000000  72000.000000   \n50%                    0.051031    55000.000000  38000.000000  80000.000000   \n75%                    0.064387    65000.000000  44000.000000  97000.000000   \n\n      Grad_share  Grad_premium  \nmean    0.400595      0.328505  \n25%     0.267567      0.230769  \n50%     0.398745      0.320755  \n75%     0.499117      0.400000  ",
      "text/html": "<div>\n<style scoped>\n    .dataframe tbody tr th:only-of-type {\n        vertical-align: middle;\n    }\n\n    .dataframe tbody tr th {\n        vertical-align: top;\n    }\n\n    .dataframe thead th {\n        text-align: right;\n    }\n</style>\n<table border=\"1\" class=\"dataframe\">\n  <thead>\n    <tr style=\"text-align: right;\">\n      <th></th>\n      <th>Major_code</th>\n      <th>Grad_total</th>\n      <th>Grad_sample_size</th>\n      <th>Grad_employed</th>\n      <th>Grad_full_time_year_round</th>\n      <th>Grad_unemployed</th>\n      <th>Grad_unemployment_rate</th>\n      <th>Grad_median</th>\n      <th>Grad_P25</th>\n      <th>Grad_P75</th>\n      <th>Nongrad_total</th>\n      <th>Nongrad_employed</th>\n      <th>Nongrad_full_time_year_round</th>\n      <th>Nongrad_unemployed</th>\n      <th>Nongrad_unemployment_rate</th>\n      <th>Nongrad_median</th>\n      <th>Nongrad_P25</th>\n      <th>Nongrad_P75</th>\n      <th>Grad_share</th>\n      <th>Grad_premium</th>\n    </tr>\n  </thead>\n  <tbody>\n    <tr>\n      <th>mean</th>\n      <td>3879.815029</td>\n      <td>127672.023121</td>\n      <td>2250.872832</td>\n      <td>94037.034682</td>\n      <td>72861.184971</td>\n      <td>3506.427746</td>\n      <td>0.039343</td>\n      <td>76755.780347</td>\n      <td>52596.508671</td>\n      <td>112087.34104</td>\n      <td>214720.312139</td>\n      <td>154553.520231</td>\n      <td>120736.820809</td>\n      <td>8486.323699</td>\n      <td>0.053947</td>\n      <td>58583.815029</td>\n      <td>40078.179191</td>\n      <td>84332.947977</td>\n      <td>0.400595</td>\n      <td>0.328505</td>\n    </tr>\n    <tr>\n      <th>25%</th>\n      <td>2403.000000</td>\n      <td>15284.000000</td>\n      <td>314.000000</td>\n      <td>12659.000000</td>\n      <td>9894.000000</td>\n      <td>453.000000</td>\n      <td>0.026068</td>\n      <td>65000.000000</td>\n      <td>45000.000000</td>\n      <td>93000.00000</td>\n      <td>20564.000000</td>\n      <td>15914.000000</td>\n      <td>11755.000000</td>\n      <td>880.000000</td>\n      <td>0.041981</td>\n      <td>48700.000000</td>\n      <td>34000.000000</td>\n      <td>72000.000000</td>\n      <td>0.267567</td>\n      <td>0.230769</td>\n    </tr>\n    <tr>\n      <th>50%</th>\n      <td>3608.000000</td>\n      <td>37872.000000</td>\n      <td>688.000000</td>\n      <td>28930.000000</td>\n      <td>22523.000000</td>\n      <td>1179.000000</td>\n      <td>0.036654</td>\n      <td>75000.000000</td>\n      <td>50000.000000</td>\n      <td>108000.00000</td>\n      <td>68993.000000</td>\n      <td>50092.000000</td>\n      <td>38384.000000</td>\n      <td>3157.000000</td>\n      <td>0.051031</td>\n      <td>55000.000000</td>\n      <td>38000.000000</td>\n      <td>80000.000000</td>\n      <td>0.398745</td>\n      <td>0.320755</td>\n    </tr>\n    <tr>\n      <th>75%</th>\n      <td>5503.000000</td>\n      <td>148255.000000</td>\n      <td>2528.000000</td>\n      <td>109944.000000</td>\n      <td>80794.000000</td>\n      <td>3329.000000</td>\n      <td>0.048051</td>\n      <td>90000.000000</td>\n      <td>60000.000000</td>\n      <td>130000.00000</td>\n      <td>184971.000000</td>\n      <td>129179.000000</td>\n      <td>103629.000000</td>\n      <td>7409.000000</td>\n      <td>0.064387</td>\n      <td>65000.000000</td>\n      <td>44000.000000</td>\n      <td>97000.000000</td>\n      <td>0.499117</td>\n      <td>0.400000</td>\n    </tr>\n  </tbody>\n</table>\n</div>"
     },
     "execution_count": 13,
     "metadata": {},
     "output_type": "execute_result"
    }
   ]
  },
  {
   "cell_type": "code",
   "source": "#agrego iqr\ndescription = description.transpose()\ndescription[\"iqr\"] = description[\"75%\"] - description[\"25%\"]\n\ndescription.rename(columns={'50%': 'median'}, inplace=True)\n\ndescription",
   "metadata": {
    "execution": {
     "iopub.status.busy": "2022-04-03T21:06:29.556113Z",
     "iopub.execute_input": "2022-04-03T21:06:29.556688Z",
     "iopub.status.idle": "2022-04-03T21:06:29.574484Z",
     "shell.execute_reply.started": "2022-04-03T21:06:29.556645Z",
     "shell.execute_reply": "2022-04-03T21:06:29.573644Z"
    },
    "trusted": true
   },
   "execution_count": 14,
   "outputs": [
    {
     "data": {
      "text/plain": "                                       mean           25%         median  \\\nMajor_code                      3879.815029   2403.000000    3608.000000   \nGrad_total                    127672.023121  15284.000000   37872.000000   \nGrad_sample_size                2250.872832    314.000000     688.000000   \nGrad_employed                  94037.034682  12659.000000   28930.000000   \nGrad_full_time_year_round      72861.184971   9894.000000   22523.000000   \nGrad_unemployed                 3506.427746    453.000000    1179.000000   \nGrad_unemployment_rate             0.039343      0.026068       0.036654   \nGrad_median                    76755.780347  65000.000000   75000.000000   \nGrad_P25                       52596.508671  45000.000000   50000.000000   \nGrad_P75                      112087.341040  93000.000000  108000.000000   \nNongrad_total                 214720.312139  20564.000000   68993.000000   \nNongrad_employed              154553.520231  15914.000000   50092.000000   \nNongrad_full_time_year_round  120736.820809  11755.000000   38384.000000   \nNongrad_unemployed              8486.323699    880.000000    3157.000000   \nNongrad_unemployment_rate          0.053947      0.041981       0.051031   \nNongrad_median                 58583.815029  48700.000000   55000.000000   \nNongrad_P25                    40078.179191  34000.000000   38000.000000   \nNongrad_P75                    84332.947977  72000.000000   80000.000000   \nGrad_share                         0.400595      0.267567       0.398745   \nGrad_premium                       0.328505      0.230769       0.320755   \n\n                                        75%            iqr  \nMajor_code                      5503.000000    3100.000000  \nGrad_total                    148255.000000  132971.000000  \nGrad_sample_size                2528.000000    2214.000000  \nGrad_employed                 109944.000000   97285.000000  \nGrad_full_time_year_round      80794.000000   70900.000000  \nGrad_unemployed                 3329.000000    2876.000000  \nGrad_unemployment_rate             0.048051       0.021983  \nGrad_median                    90000.000000   25000.000000  \nGrad_P25                       60000.000000   15000.000000  \nGrad_P75                      130000.000000   37000.000000  \nNongrad_total                 184971.000000  164407.000000  \nNongrad_employed              129179.000000  113265.000000  \nNongrad_full_time_year_round  103629.000000   91874.000000  \nNongrad_unemployed              7409.000000    6529.000000  \nNongrad_unemployment_rate          0.064387       0.022406  \nNongrad_median                 65000.000000   16300.000000  \nNongrad_P25                    44000.000000   10000.000000  \nNongrad_P75                    97000.000000   25000.000000  \nGrad_share                         0.499117       0.231550  \nGrad_premium                       0.400000       0.169231  ",
      "text/html": "<div>\n<style scoped>\n    .dataframe tbody tr th:only-of-type {\n        vertical-align: middle;\n    }\n\n    .dataframe tbody tr th {\n        vertical-align: top;\n    }\n\n    .dataframe thead th {\n        text-align: right;\n    }\n</style>\n<table border=\"1\" class=\"dataframe\">\n  <thead>\n    <tr style=\"text-align: right;\">\n      <th></th>\n      <th>mean</th>\n      <th>25%</th>\n      <th>median</th>\n      <th>75%</th>\n      <th>iqr</th>\n    </tr>\n  </thead>\n  <tbody>\n    <tr>\n      <th>Major_code</th>\n      <td>3879.815029</td>\n      <td>2403.000000</td>\n      <td>3608.000000</td>\n      <td>5503.000000</td>\n      <td>3100.000000</td>\n    </tr>\n    <tr>\n      <th>Grad_total</th>\n      <td>127672.023121</td>\n      <td>15284.000000</td>\n      <td>37872.000000</td>\n      <td>148255.000000</td>\n      <td>132971.000000</td>\n    </tr>\n    <tr>\n      <th>Grad_sample_size</th>\n      <td>2250.872832</td>\n      <td>314.000000</td>\n      <td>688.000000</td>\n      <td>2528.000000</td>\n      <td>2214.000000</td>\n    </tr>\n    <tr>\n      <th>Grad_employed</th>\n      <td>94037.034682</td>\n      <td>12659.000000</td>\n      <td>28930.000000</td>\n      <td>109944.000000</td>\n      <td>97285.000000</td>\n    </tr>\n    <tr>\n      <th>Grad_full_time_year_round</th>\n      <td>72861.184971</td>\n      <td>9894.000000</td>\n      <td>22523.000000</td>\n      <td>80794.000000</td>\n      <td>70900.000000</td>\n    </tr>\n    <tr>\n      <th>Grad_unemployed</th>\n      <td>3506.427746</td>\n      <td>453.000000</td>\n      <td>1179.000000</td>\n      <td>3329.000000</td>\n      <td>2876.000000</td>\n    </tr>\n    <tr>\n      <th>Grad_unemployment_rate</th>\n      <td>0.039343</td>\n      <td>0.026068</td>\n      <td>0.036654</td>\n      <td>0.048051</td>\n      <td>0.021983</td>\n    </tr>\n    <tr>\n      <th>Grad_median</th>\n      <td>76755.780347</td>\n      <td>65000.000000</td>\n      <td>75000.000000</td>\n      <td>90000.000000</td>\n      <td>25000.000000</td>\n    </tr>\n    <tr>\n      <th>Grad_P25</th>\n      <td>52596.508671</td>\n      <td>45000.000000</td>\n      <td>50000.000000</td>\n      <td>60000.000000</td>\n      <td>15000.000000</td>\n    </tr>\n    <tr>\n      <th>Grad_P75</th>\n      <td>112087.341040</td>\n      <td>93000.000000</td>\n      <td>108000.000000</td>\n      <td>130000.000000</td>\n      <td>37000.000000</td>\n    </tr>\n    <tr>\n      <th>Nongrad_total</th>\n      <td>214720.312139</td>\n      <td>20564.000000</td>\n      <td>68993.000000</td>\n      <td>184971.000000</td>\n      <td>164407.000000</td>\n    </tr>\n    <tr>\n      <th>Nongrad_employed</th>\n      <td>154553.520231</td>\n      <td>15914.000000</td>\n      <td>50092.000000</td>\n      <td>129179.000000</td>\n      <td>113265.000000</td>\n    </tr>\n    <tr>\n      <th>Nongrad_full_time_year_round</th>\n      <td>120736.820809</td>\n      <td>11755.000000</td>\n      <td>38384.000000</td>\n      <td>103629.000000</td>\n      <td>91874.000000</td>\n    </tr>\n    <tr>\n      <th>Nongrad_unemployed</th>\n      <td>8486.323699</td>\n      <td>880.000000</td>\n      <td>3157.000000</td>\n      <td>7409.000000</td>\n      <td>6529.000000</td>\n    </tr>\n    <tr>\n      <th>Nongrad_unemployment_rate</th>\n      <td>0.053947</td>\n      <td>0.041981</td>\n      <td>0.051031</td>\n      <td>0.064387</td>\n      <td>0.022406</td>\n    </tr>\n    <tr>\n      <th>Nongrad_median</th>\n      <td>58583.815029</td>\n      <td>48700.000000</td>\n      <td>55000.000000</td>\n      <td>65000.000000</td>\n      <td>16300.000000</td>\n    </tr>\n    <tr>\n      <th>Nongrad_P25</th>\n      <td>40078.179191</td>\n      <td>34000.000000</td>\n      <td>38000.000000</td>\n      <td>44000.000000</td>\n      <td>10000.000000</td>\n    </tr>\n    <tr>\n      <th>Nongrad_P75</th>\n      <td>84332.947977</td>\n      <td>72000.000000</td>\n      <td>80000.000000</td>\n      <td>97000.000000</td>\n      <td>25000.000000</td>\n    </tr>\n    <tr>\n      <th>Grad_share</th>\n      <td>0.400595</td>\n      <td>0.267567</td>\n      <td>0.398745</td>\n      <td>0.499117</td>\n      <td>0.231550</td>\n    </tr>\n    <tr>\n      <th>Grad_premium</th>\n      <td>0.328505</td>\n      <td>0.230769</td>\n      <td>0.320755</td>\n      <td>0.400000</td>\n      <td>0.169231</td>\n    </tr>\n  </tbody>\n</table>\n</div>"
     },
     "execution_count": 14,
     "metadata": {},
     "output_type": "execute_result"
    }
   ]
  },
  {
   "cell_type": "code",
   "source": "modes = students.mode(axis='index', numeric_only=True).transpose()\n\ndescription[\"mode\"] = modes[0]\n\ndescription = description.transpose().drop(\"Major_code\", axis='columns')\n\ndescription",
   "metadata": {
    "execution": {
     "iopub.status.busy": "2022-04-03T21:06:29.577051Z",
     "iopub.execute_input": "2022-04-03T21:06:29.577715Z",
     "iopub.status.idle": "2022-04-03T21:06:29.616251Z",
     "shell.execute_reply.started": "2022-04-03T21:06:29.577672Z",
     "shell.execute_reply": "2022-04-03T21:06:29.615303Z"
    },
    "trusted": true
   },
   "execution_count": 15,
   "outputs": [
    {
     "data": {
      "text/plain": "           Grad_total  Grad_sample_size  Grad_employed  \\\nmean    127672.023121       2250.872832   94037.034682   \n25%      15284.000000        314.000000   12659.000000   \nmedian   37872.000000        688.000000   28930.000000   \n75%     148255.000000       2528.000000  109944.000000   \niqr     132971.000000       2214.000000   97285.000000   \nmode      1542.000000         98.000000    1008.000000   \n\n        Grad_full_time_year_round  Grad_unemployed  Grad_unemployment_rate  \\\nmean                 72861.184971      3506.427746                0.039343   \n25%                   9894.000000       453.000000                0.026068   \nmedian               22523.000000      1179.000000                0.036654   \n75%                  80794.000000      3329.000000                0.048051   \niqr                  70900.000000      2876.000000                0.021983   \nmode                   770.000000       112.000000                0.000000   \n\n         Grad_median      Grad_P25      Grad_P75  Nongrad_total  \\\nmean    76755.780347  52596.508671  112087.34104  214720.312139   \n25%     65000.000000  45000.000000   93000.00000   20564.000000   \nmedian  75000.000000  50000.000000  108000.00000   68993.000000   \n75%     90000.000000  60000.000000  130000.00000  184971.000000   \niqr     25000.000000  15000.000000   37000.00000  164407.000000   \nmode    65000.000000  50000.000000  100000.00000    2232.000000   \n\n        Nongrad_employed  Nongrad_full_time_year_round  Nongrad_unemployed  \\\nmean       154553.520231                 120736.820809         8486.323699   \n25%         15914.000000                  11755.000000          880.000000   \nmedian      50092.000000                  38384.000000         3157.000000   \n75%        129179.000000                 103629.000000         7409.000000   \niqr        113265.000000                  91874.000000         6529.000000   \nmode         1328.000000                    980.000000            0.000000   \n\n        Nongrad_unemployment_rate  Nongrad_median   Nongrad_P25   Nongrad_P75  \\\nmean                     0.053947    58583.815029  40078.179191  84332.947977   \n25%                      0.041981    48700.000000  34000.000000  72000.000000   \nmedian                   0.051031    55000.000000  38000.000000  80000.000000   \n75%                      0.064387    65000.000000  44000.000000  97000.000000   \niqr                      0.022406    16300.000000  10000.000000  25000.000000   \nmode                     0.000000    50000.000000  35000.000000  75000.000000   \n\n        Grad_share  Grad_premium  \nmean      0.400595      0.328505  \n25%       0.267567      0.230769  \nmedian    0.398745      0.320755  \n75%       0.499117      0.400000  \niqr       0.231550      0.169231  \nmode      0.096320      0.333333  ",
      "text/html": "<div>\n<style scoped>\n    .dataframe tbody tr th:only-of-type {\n        vertical-align: middle;\n    }\n\n    .dataframe tbody tr th {\n        vertical-align: top;\n    }\n\n    .dataframe thead th {\n        text-align: right;\n    }\n</style>\n<table border=\"1\" class=\"dataframe\">\n  <thead>\n    <tr style=\"text-align: right;\">\n      <th></th>\n      <th>Grad_total</th>\n      <th>Grad_sample_size</th>\n      <th>Grad_employed</th>\n      <th>Grad_full_time_year_round</th>\n      <th>Grad_unemployed</th>\n      <th>Grad_unemployment_rate</th>\n      <th>Grad_median</th>\n      <th>Grad_P25</th>\n      <th>Grad_P75</th>\n      <th>Nongrad_total</th>\n      <th>Nongrad_employed</th>\n      <th>Nongrad_full_time_year_round</th>\n      <th>Nongrad_unemployed</th>\n      <th>Nongrad_unemployment_rate</th>\n      <th>Nongrad_median</th>\n      <th>Nongrad_P25</th>\n      <th>Nongrad_P75</th>\n      <th>Grad_share</th>\n      <th>Grad_premium</th>\n    </tr>\n  </thead>\n  <tbody>\n    <tr>\n      <th>mean</th>\n      <td>127672.023121</td>\n      <td>2250.872832</td>\n      <td>94037.034682</td>\n      <td>72861.184971</td>\n      <td>3506.427746</td>\n      <td>0.039343</td>\n      <td>76755.780347</td>\n      <td>52596.508671</td>\n      <td>112087.34104</td>\n      <td>214720.312139</td>\n      <td>154553.520231</td>\n      <td>120736.820809</td>\n      <td>8486.323699</td>\n      <td>0.053947</td>\n      <td>58583.815029</td>\n      <td>40078.179191</td>\n      <td>84332.947977</td>\n      <td>0.400595</td>\n      <td>0.328505</td>\n    </tr>\n    <tr>\n      <th>25%</th>\n      <td>15284.000000</td>\n      <td>314.000000</td>\n      <td>12659.000000</td>\n      <td>9894.000000</td>\n      <td>453.000000</td>\n      <td>0.026068</td>\n      <td>65000.000000</td>\n      <td>45000.000000</td>\n      <td>93000.00000</td>\n      <td>20564.000000</td>\n      <td>15914.000000</td>\n      <td>11755.000000</td>\n      <td>880.000000</td>\n      <td>0.041981</td>\n      <td>48700.000000</td>\n      <td>34000.000000</td>\n      <td>72000.000000</td>\n      <td>0.267567</td>\n      <td>0.230769</td>\n    </tr>\n    <tr>\n      <th>median</th>\n      <td>37872.000000</td>\n      <td>688.000000</td>\n      <td>28930.000000</td>\n      <td>22523.000000</td>\n      <td>1179.000000</td>\n      <td>0.036654</td>\n      <td>75000.000000</td>\n      <td>50000.000000</td>\n      <td>108000.00000</td>\n      <td>68993.000000</td>\n      <td>50092.000000</td>\n      <td>38384.000000</td>\n      <td>3157.000000</td>\n      <td>0.051031</td>\n      <td>55000.000000</td>\n      <td>38000.000000</td>\n      <td>80000.000000</td>\n      <td>0.398745</td>\n      <td>0.320755</td>\n    </tr>\n    <tr>\n      <th>75%</th>\n      <td>148255.000000</td>\n      <td>2528.000000</td>\n      <td>109944.000000</td>\n      <td>80794.000000</td>\n      <td>3329.000000</td>\n      <td>0.048051</td>\n      <td>90000.000000</td>\n      <td>60000.000000</td>\n      <td>130000.00000</td>\n      <td>184971.000000</td>\n      <td>129179.000000</td>\n      <td>103629.000000</td>\n      <td>7409.000000</td>\n      <td>0.064387</td>\n      <td>65000.000000</td>\n      <td>44000.000000</td>\n      <td>97000.000000</td>\n      <td>0.499117</td>\n      <td>0.400000</td>\n    </tr>\n    <tr>\n      <th>iqr</th>\n      <td>132971.000000</td>\n      <td>2214.000000</td>\n      <td>97285.000000</td>\n      <td>70900.000000</td>\n      <td>2876.000000</td>\n      <td>0.021983</td>\n      <td>25000.000000</td>\n      <td>15000.000000</td>\n      <td>37000.00000</td>\n      <td>164407.000000</td>\n      <td>113265.000000</td>\n      <td>91874.000000</td>\n      <td>6529.000000</td>\n      <td>0.022406</td>\n      <td>16300.000000</td>\n      <td>10000.000000</td>\n      <td>25000.000000</td>\n      <td>0.231550</td>\n      <td>0.169231</td>\n    </tr>\n    <tr>\n      <th>mode</th>\n      <td>1542.000000</td>\n      <td>98.000000</td>\n      <td>1008.000000</td>\n      <td>770.000000</td>\n      <td>112.000000</td>\n      <td>0.000000</td>\n      <td>65000.000000</td>\n      <td>50000.000000</td>\n      <td>100000.00000</td>\n      <td>2232.000000</td>\n      <td>1328.000000</td>\n      <td>980.000000</td>\n      <td>0.000000</td>\n      <td>0.000000</td>\n      <td>50000.000000</td>\n      <td>35000.000000</td>\n      <td>75000.000000</td>\n      <td>0.096320</td>\n      <td>0.333333</td>\n    </tr>\n  </tbody>\n</table>\n</div>"
     },
     "execution_count": 15,
     "metadata": {},
     "output_type": "execute_result"
    }
   ]
  }
 ]
}